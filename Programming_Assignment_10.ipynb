{
  "nbformat": 4,
  "nbformat_minor": 0,
  "metadata": {
    "colab": {
      "provenance": []
    },
    "kernelspec": {
      "name": "python3",
      "display_name": "Python 3"
    },
    "language_info": {
      "name": "python"
    }
  },
  "cells": [
    {
      "cell_type": "code",
      "source": [
        "# Programming Assignment_10"
      ],
      "metadata": {
        "id": "pTTt3zdCCAWp"
      },
      "execution_count": 1,
      "outputs": []
    },
    {
      "cell_type": "code",
      "execution_count": 2,
      "metadata": {
        "colab": {
          "base_uri": "https://localhost:8080/"
        },
        "id": "RSmlCqB_BtDY",
        "outputId": "970bbf77-9df0-4b5a-8c9c-8a9f0d96783f"
      },
      "outputs": [
        {
          "output_type": "stream",
          "name": "stdout",
          "text": [
            "Object `List` not found.\n",
            "Object `List` not found.\n"
          ]
        }
      ],
      "source": [
        "1. Write a Python program to find sum of elements in list?\n",
        "2. Write a Python program to Multiply all numbers in the list?\n",
        "3. Write a Python program to find smallest number in a list?\n",
        "4. Write a Python program to find largest number in a list?\n",
        "5. Write a Python program to find second largest number in a list?\n",
        "6. Write a Python program to find N largest elements from a list?\n",
        "7. Write a Python program to print even numbers in a list?\n",
        "8. Write a Python program to print odd numbers in a List?\n",
        "9. Write a Python program to Remove empty List from List?\n",
        "10. Write a Python program to Cloning or Copying a list?\n",
        "11. Write a Python program to Count occurrences of an element in a list?"
      ]
    },
    {
      "cell_type": "code",
      "source": [
        "# 1. Write a Python program to find sum of elements in list\n",
        "# Python code to demonstrate the working of  \n",
        "numbers = [1,2,3,4,5,1,4,5] \n",
        "  \n",
        "Sum = sum(numbers) \n",
        "print(Sum) # result is 25  \n",
        "# start = 10 \n",
        "Sum = sum(numbers, 10) \n",
        "print(Sum) # result is 10 +25 = 35\n"
      ],
      "metadata": {
        "colab": {
          "base_uri": "https://localhost:8080/"
        },
        "id": "4PbivhXRCBOp",
        "outputId": "c3414cc5-41ae-47c8-c9a3-343f38c58b5a"
      },
      "execution_count": 3,
      "outputs": [
        {
          "output_type": "stream",
          "name": "stdout",
          "text": [
            "25\n",
            "35\n"
          ]
        }
      ]
    },
    {
      "cell_type": "code",
      "source": [
        "# 2. Write a Python program to Multiply all numbers in the list?\n",
        "# Python program to multiply all values in the\n",
        "# list using traversal\n",
        " \n",
        " \n",
        "def multiplyList(myList):\n",
        " \n",
        "    # Multiply elements one by one\n",
        "    result = 1\n",
        "    for x in myList:\n",
        "        result = result * x\n",
        "    return result\n",
        " \n",
        "\n",
        "list1 = [1, 2, 3]\n",
        "list2 = [3, 2, 4]\n",
        "print(multiplyList(list1))\n",
        "print(multiplyList(list2))"
      ],
      "metadata": {
        "colab": {
          "base_uri": "https://localhost:8080/"
        },
        "id": "tu5zBYz4CJK9",
        "outputId": "195c2fb9-c0d7-4cf9-b957-ef4b0caccd9d"
      },
      "execution_count": 5,
      "outputs": [
        {
          "output_type": "stream",
          "name": "stdout",
          "text": [
            "6\n",
            "24\n"
          ]
        }
      ]
    },
    {
      "cell_type": "code",
      "source": [
        "# 3. Write a Python program to find smallest number in a list?\n",
        "# list of numbers\n",
        "list1 = [10, 20, 9, 69, 9]\n",
        "\n",
        "# sorting the list\n",
        "list1.sort()\n",
        " \n",
        "# printing the first element\n",
        "print(\"Smallest element is:\", list1[0])"
      ],
      "metadata": {
        "colab": {
          "base_uri": "https://localhost:8080/"
        },
        "id": "8kwJh8DQCmU8",
        "outputId": "b813cb6d-b933-4687-b4ed-10e7a9d512ef"
      },
      "execution_count": 7,
      "outputs": [
        {
          "output_type": "stream",
          "name": "stdout",
          "text": [
            "Smallest element is: 9\n"
          ]
        }
      ]
    },
    {
      "cell_type": "code",
      "source": [
        "# 4. Write a Python program to find largest number in a list?\n",
        "numbers = [1, 5, 2, 10, 9, 3, 5]\n",
        "print(max(numbers))"
      ],
      "metadata": {
        "colab": {
          "base_uri": "https://localhost:8080/"
        },
        "id": "24M3BtTdC04L",
        "outputId": "6d332cc7-2ca2-4621-f022-fe2db6b71ffb"
      },
      "execution_count": 9,
      "outputs": [
        {
          "output_type": "stream",
          "name": "stdout",
          "text": [
            "10\n"
          ]
        }
      ]
    },
    {
      "cell_type": "code",
      "source": [
        "# 5. Write a Python program to find second largest number in a list?\n",
        "list1 = [10, 20, 4, 45, 99]\n",
        " \n",
        "mx = max(list1[0], list1[1])\n",
        "secondmax = min(list1[0], list1[1])\n",
        "n = len(list1)\n",
        "for i in range(2,n):\n",
        "    if list1[i] > mx:\n",
        "        secondmax = mx\n",
        "        mx = list1[i]\n",
        "    elif list1[i] > secondmax and \\\n",
        "        mx != list1[i]:\n",
        "        secondmax = list1[i]\n",
        "    elif mx == secondmax and \\\n",
        "        secondmax != list1[i]:\n",
        "          secondmax = list1[i]\n",
        " \n",
        "print(\"Second highest number is : \",\\\n",
        "      str(secondmax))"
      ],
      "metadata": {
        "colab": {
          "base_uri": "https://localhost:8080/"
        },
        "id": "wxZd0ZCZC67J",
        "outputId": "3058b3ae-5f26-4094-ede2-b15205bcc551"
      },
      "execution_count": 12,
      "outputs": [
        {
          "output_type": "stream",
          "name": "stdout",
          "text": [
            "Second highest number is :  45\n"
          ]
        }
      ]
    },
    {
      "cell_type": "code",
      "source": [
        "# 6. Write a Python program to find N largest elements from a list?\n",
        "\n",
        "# Python program to find N largest\n",
        "# element from given list of integers\n",
        "  \n",
        "# Function returns N largest elements\n",
        "def Nmaxelements(list1, N):\n",
        "    final_list = []\n",
        "  \n",
        "    for i in range(0, N): \n",
        "        max1 = 0\n",
        "          \n",
        "        for j in range(len(list1)):     \n",
        "            if list1[j] > max1:\n",
        "                max1 = list1[j];\n",
        "                  \n",
        "        list1.remove(max1);\n",
        "        final_list.append(max1)\n",
        "          \n",
        "    print(final_list)\n",
        "  \n",
        "# Driver code\n",
        "list1 = [2, 6, 41, 85, 0, 3, 7, 6, 10]\n",
        "N = 2\n",
        "  \n",
        "# Calling the function\n",
        "Nmaxelements(list1, N)"
      ],
      "metadata": {
        "colab": {
          "base_uri": "https://localhost:8080/"
        },
        "id": "0Gy7xrDHDDno",
        "outputId": "5c2017d2-27b8-45f2-a2c0-e28bd73d692f"
      },
      "execution_count": 13,
      "outputs": [
        {
          "output_type": "stream",
          "name": "stdout",
          "text": [
            "[85, 41]\n"
          ]
        }
      ]
    },
    {
      "cell_type": "code",
      "source": [
        "# 7. Write a Python program to print even numbers in a list?\n",
        "# Python program to print Even Numbers in a List\n",
        " \n",
        "# list of numbers\n",
        "list1 = [10, 21, 4, 45, 66, 93]\n",
        " \n",
        "# iterating each number in list\n",
        "for num in list1:\n",
        " \n",
        "    # checking condition\n",
        "    if num % 2 == 0:\n",
        "        print(num, end=\" \")"
      ],
      "metadata": {
        "colab": {
          "base_uri": "https://localhost:8080/"
        },
        "id": "cou6oJ8DDabV",
        "outputId": "598e3e55-ce49-45fc-a5c1-94ad81a0f277"
      },
      "execution_count": 14,
      "outputs": [
        {
          "output_type": "stream",
          "name": "stdout",
          "text": [
            "10 4 66 "
          ]
        }
      ]
    },
    {
      "cell_type": "code",
      "source": [
        "# 8. Write a Python program to print odd numbers in a List?\n",
        "# Python program to print odd Numbers in a List\n",
        "  \n",
        "# list of numbers\n",
        "list1 = [10, 21, 4, 45, 66, 93]\n",
        "  \n",
        "# iterating each number in list\n",
        "for num in list1:\n",
        "      \n",
        "    # checking condition\n",
        "    if num % 2 != 0:\n",
        "       print(num, end = \" \")"
      ],
      "metadata": {
        "colab": {
          "base_uri": "https://localhost:8080/"
        },
        "id": "bJC2Xpp9Dg7h",
        "outputId": "56aeb4be-e85b-47f8-97fb-f07f0eac05c6"
      },
      "execution_count": 15,
      "outputs": [
        {
          "output_type": "stream",
          "name": "stdout",
          "text": [
            "21 45 93 "
          ]
        }
      ]
    },
    {
      "cell_type": "code",
      "source": [
        "# 9. Write a Python program to Remove empty List from List?\n",
        "list1 = [[], [], [], 'Red', 'Green', [1,2], 'Blue', [], []]\n",
        "print(\"Original list:\")\n",
        "print(list1)\n",
        "print(\"\\nAfter deleting the empty lists from the said lists of lists\")\n",
        "list2 = [x for x in list1 if x]\n",
        "print(list2)"
      ],
      "metadata": {
        "colab": {
          "base_uri": "https://localhost:8080/"
        },
        "id": "Ovyom0vEDo3J",
        "outputId": "311cece7-eac4-4646-960b-2a2aa025cf74"
      },
      "execution_count": 17,
      "outputs": [
        {
          "output_type": "stream",
          "name": "stdout",
          "text": [
            "Original list:\n",
            "[[], [], [], 'Red', 'Green', [1, 2], 'Blue', [], []]\n",
            "\n",
            "After deleting the empty lists from the said lists of lists\n",
            "['Red', 'Green', [1, 2], 'Blue']\n"
          ]
        }
      ]
    },
    {
      "cell_type": "code",
      "source": [
        "# 10. Write a Python program to Cloning or Copying a list?\n",
        "original_list = [10, 22, 44, 23, 4]\n",
        "new_list = list(original_list)\n",
        "print(original_list)\n",
        "print(new_list)"
      ],
      "metadata": {
        "colab": {
          "base_uri": "https://localhost:8080/"
        },
        "id": "H8cxbjrxDvZe",
        "outputId": "ec363d30-a526-44e1-c79a-136251976a75"
      },
      "execution_count": 18,
      "outputs": [
        {
          "output_type": "stream",
          "name": "stdout",
          "text": [
            "[10, 22, 44, 23, 4]\n",
            "[10, 22, 44, 23, 4]\n"
          ]
        }
      ]
    },
    {
      "cell_type": "code",
      "source": [
        "# 11. Write a Python program to Count occurrences of an element in a list?\n",
        "import collections\n",
        "\n",
        "a_list = [\"a\", \"b\", \"a\"]\n",
        "occurrences = collections.Counter(a_list)\n",
        "print(occurrences)"
      ],
      "metadata": {
        "colab": {
          "base_uri": "https://localhost:8080/"
        },
        "id": "TAwXKjcuEHLw",
        "outputId": "1277920a-4008-4698-dd43-6920d226c7ab"
      },
      "execution_count": 19,
      "outputs": [
        {
          "output_type": "stream",
          "name": "stdout",
          "text": [
            "Counter({'a': 2, 'b': 1})\n"
          ]
        }
      ]
    },
    {
      "cell_type": "code",
      "source": [],
      "metadata": {
        "id": "IvMnP6MJEPyw"
      },
      "execution_count": null,
      "outputs": []
    }
  ]
}